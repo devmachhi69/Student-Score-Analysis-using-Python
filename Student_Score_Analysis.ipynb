{
 "cells": [
  {
   "cell_type": "code",
   "execution_count": 2,
   "id": "04fe6004-bc17-42a8-ab45-b02674fdd971",
   "metadata": {},
   "outputs": [
    {
     "data": {
      "text/html": [
       "<div>\n",
       "<style scoped>\n",
       "    .dataframe tbody tr th:only-of-type {\n",
       "        vertical-align: middle;\n",
       "    }\n",
       "\n",
       "    .dataframe tbody tr th {\n",
       "        vertical-align: top;\n",
       "    }\n",
       "\n",
       "    .dataframe thead th {\n",
       "        text-align: right;\n",
       "    }\n",
       "</style>\n",
       "<table border=\"1\" class=\"dataframe\">\n",
       "  <thead>\n",
       "    <tr style=\"text-align: right;\">\n",
       "      <th></th>\n",
       "      <th>Name</th>\n",
       "      <th>Maths</th>\n",
       "      <th>Science</th>\n",
       "      <th>English</th>\n",
       "    </tr>\n",
       "  </thead>\n",
       "  <tbody>\n",
       "    <tr>\n",
       "      <th>0</th>\n",
       "      <td>Dev</td>\n",
       "      <td>78</td>\n",
       "      <td>85</td>\n",
       "      <td>82</td>\n",
       "    </tr>\n",
       "    <tr>\n",
       "      <th>1</th>\n",
       "      <td>Raju</td>\n",
       "      <td>65</td>\n",
       "      <td>70</td>\n",
       "      <td>72</td>\n",
       "    </tr>\n",
       "    <tr>\n",
       "      <th>2</th>\n",
       "      <td>Pooja</td>\n",
       "      <td>90</td>\n",
       "      <td>88</td>\n",
       "      <td>91</td>\n",
       "    </tr>\n",
       "    <tr>\n",
       "      <th>3</th>\n",
       "      <td>Amit</td>\n",
       "      <td>55</td>\n",
       "      <td>60</td>\n",
       "      <td>58</td>\n",
       "    </tr>\n",
       "    <tr>\n",
       "      <th>4</th>\n",
       "      <td>Meena</td>\n",
       "      <td>80</td>\n",
       "      <td>79</td>\n",
       "      <td>85</td>\n",
       "    </tr>\n",
       "  </tbody>\n",
       "</table>\n",
       "</div>"
      ],
      "text/plain": [
       "    Name  Maths  Science  English\n",
       "0    Dev     78       85       82\n",
       "1   Raju     65       70       72\n",
       "2  Pooja     90       88       91\n",
       "3   Amit     55       60       58\n",
       "4  Meena     80       79       85"
      ]
     },
     "execution_count": 2,
     "metadata": {},
     "output_type": "execute_result"
    }
   ],
   "source": [
    "import pandas as pd \n",
    "import matplotlib.pyplot as plt\n",
    "\n",
    "df = pd.read_csv(\"students.csv\")\n",
    "df.head()"
   ]
  },
  {
   "cell_type": "markdown",
   "id": "9ec04df0-91cd-4634-a058-b24638940da3",
   "metadata": {},
   "source": [
    "calculate Average Score Of Each Student "
   ]
  },
  {
   "cell_type": "code",
   "execution_count": 6,
   "id": "b6fa4831-7eb1-4af3-9bdf-7879494b9dfe",
   "metadata": {},
   "outputs": [
    {
     "name": "stdout",
     "output_type": "stream",
     "text": [
      "    Name  Maths  Science  English    Average\n",
      "0    Dev     78       85       82  81.666667\n",
      "1   Raju     65       70       72  69.000000\n",
      "2  Pooja     90       88       91  89.666667\n",
      "3   Amit     55       60       58  57.666667\n",
      "4  Meena     80       79       85  81.333333\n",
      "5   Ravi     72       68       74  71.333333\n",
      "6   Neha     88       92       90  90.000000\n",
      "7  Karan     60       65       63  62.666667\n",
      "8   Isha     84       86       88  86.000000\n",
      "9   Tina     95       94       97  95.333333\n"
     ]
    }
   ],
   "source": [
    "df['Average'] = df[[\"Maths\",\"Science\",\"English\"]].mean(axis=1)\n",
    "print(df)"
   ]
  },
  {
   "cell_type": "markdown",
   "id": "2be20189-b6f8-416d-a641-febaff8bf4d8",
   "metadata": {},
   "source": [
    "Top Student"
   ]
  },
  {
   "cell_type": "code",
   "execution_count": 10,
   "id": "11dee56c-1b92-4747-bffa-bc6c06bf9f1d",
   "metadata": {},
   "outputs": [
    {
     "name": "stdout",
     "output_type": "stream",
     "text": [
      "Name            Tina\n",
      "Maths             95\n",
      "Science           94\n",
      "English           97\n",
      "Average    95.333333\n",
      "Name: 9, dtype: object\n"
     ]
    }
   ],
   "source": [
    "top_student = df.loc[df[\"Average\"].idxmax()]\n",
    "print(top_student)"
   ]
  },
  {
   "cell_type": "markdown",
   "id": "1fb77a4f-87ad-4044-b29a-2104a628c6db",
   "metadata": {},
   "source": [
    "subject wise average"
   ]
  },
  {
   "cell_type": "code",
   "execution_count": 12,
   "id": "2c3c060c-f6e9-4da3-b50d-b971464b3561",
   "metadata": {},
   "outputs": [
    {
     "name": "stdout",
     "output_type": "stream",
     "text": [
      "Maths      76.7\n",
      "Science    78.7\n",
      "English    80.0\n",
      "dtype: float64\n"
     ]
    }
   ],
   "source": [
    "subject_avg = df[[\"Maths\",\"Science\",\"English\"]].mean()\n",
    "print(subject_avg)"
   ]
  },
  {
   "cell_type": "code",
   "execution_count": 13,
   "id": "2c28a01a-ba13-4c98-be9e-c457949d6926",
   "metadata": {},
   "outputs": [
    {
     "data": {
      "image/png": "[encoded data removed]",
      "text/plain": [
       "<Figure size 640x480 with 1 Axes>"
      ]
     },
     "metadata": {},
     "output_type": "display_data"
    }
   ],
   "source": [
    "subject_avg.plot(kind=\"bar\",color=[\"blue\", \"red\", \"green\"])\n",
    "plt.title(\"Average Marks by Subject\")\n",
    "plt.xlabel(\"Subject\")\n",
    "plt.ylabel(\"Average Marks\")\n",
    "plt.show()"
   ]
  },
  {
   "cell_type": "code",
   "execution_count": null,
   "id": "3f2cd46f-3f15-468a-95c0-ba276e84f78f",
   "metadata": {},
   "outputs": [],
   "source": []
  }
 ],
 "metadata": {
  "kernelspec": {
   "display_name": "Python 3 (ipykernel)",
   "language": "python",
   "name": "python3"
  },
  "language_info": {
   "codemirror_mode": {
    "name": "ipython",
    "version": 3
   },
   "file_extension": ".py",
   "mimetype": "text/x-python",
   "name": "python",
   "nbconvert_exporter": "python",
   "pygments_lexer": "ipython3",
   "version": "3.13.1"
  }
 },
 "nbformat": 4,
 "nbformat_minor": 5
}
